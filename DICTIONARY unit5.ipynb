{
 "cells": [
  {
   "cell_type": "code",
   "execution_count": 6,
   "id": "3ac7a7f3",
   "metadata": {},
   "outputs": [
    {
     "data": {
      "text/plain": [
       "{'Aryanshii': 'Human being', 'Spoon': 'to eat'}"
      ]
     },
     "execution_count": 6,
     "metadata": {},
     "output_type": "execute_result"
    }
   ],
   "source": [
    "dic = {   #store the data in key value pairs\n",
    "    \"Aryanshii\": \"Human being\",\n",
    "        \"Spoon\": \"to eat\"\n",
    "}\n",
    "dic"
   ]
  },
  {
   "cell_type": "code",
   "execution_count": 8,
   "id": "d7bce20f",
   "metadata": {},
   "outputs": [
    {
     "name": "stdout",
     "output_type": "stream",
     "text": [
      "None\n"
     ]
    }
   ],
   "source": [
    "#if we use dic.get(\"spoon\") and dic(\"spoon\") it will print same thing \n",
    "#mjaor difference is that if we fo dic.get(\"hi\") it will give none value and on the otherhand dic(\"hi\") will give u error\n",
    "#because \"hi\" key is not present in the dictionary i.e, dic\n",
    "print(dic.get(\"hi\"))"
   ]
  },
  {
   "cell_type": "code",
   "execution_count": 9,
   "id": "07f1b7fe",
   "metadata": {},
   "outputs": [
    {
     "ename": "TypeError",
     "evalue": "'dict' object is not callable",
     "output_type": "error",
     "traceback": [
      "\u001b[1;31m---------------------------------------------------------------------------\u001b[0m",
      "\u001b[1;31mTypeError\u001b[0m                                 Traceback (most recent call last)",
      "\u001b[1;32m~\\AppData\\Local\\Temp\\ipykernel_8612\\1863031827.py\u001b[0m in \u001b[0;36m<module>\u001b[1;34m\u001b[0m\n\u001b[1;32m----> 1\u001b[1;33m \u001b[0mprint\u001b[0m\u001b[1;33m(\u001b[0m\u001b[0mdic\u001b[0m\u001b[1;33m(\u001b[0m\u001b[1;34m\"hi\"\u001b[0m\u001b[1;33m)\u001b[0m\u001b[1;33m)\u001b[0m\u001b[1;33m\u001b[0m\u001b[1;33m\u001b[0m\u001b[0m\n\u001b[0m",
      "\u001b[1;31mTypeError\u001b[0m: 'dict' object is not callable"
     ]
    }
   ],
   "source": [
    "print(dic(\"hi\"))"
   ]
  },
  {
   "cell_type": "code",
   "execution_count": 12,
   "id": "479edaaf",
   "metadata": {},
   "outputs": [
    {
     "name": "stdout",
     "output_type": "stream",
     "text": [
      "dict_keys(['Aryanshii', 'Spoon'])\n"
     ]
    }
   ],
   "source": [
    "#to access all the keys of the dictionary using Keys method\n",
    "print(dic.keys())"
   ]
  },
  {
   "cell_type": "code",
   "execution_count": 13,
   "id": "3997fb60",
   "metadata": {},
   "outputs": [
    {
     "name": "stdout",
     "output_type": "stream",
     "text": [
      "dict_values(['Human being', 'to eat'])\n"
     ]
    }
   ],
   "source": [
    "#to access all the values of the dictionary using values\n",
    "print(dic.values())"
   ]
  },
  {
   "cell_type": "code",
   "execution_count": 15,
   "id": "46c20f8f",
   "metadata": {},
   "outputs": [
    {
     "name": "stdout",
     "output_type": "stream",
     "text": [
      "Aryanshii = Human being\n",
      "Spoon = to eat\n"
     ]
    }
   ],
   "source": [
    "for i in dic.keys():   #to print key along with the values\n",
    "    print((i),\"=\",dic[i]) "
   ]
  },
  {
   "cell_type": "code",
   "execution_count": 17,
   "id": "e54d4aa7",
   "metadata": {},
   "outputs": [
    {
     "name": "stdout",
     "output_type": "stream",
     "text": [
      "dict_items([('Aryanshii', 'Human being'), ('Spoon', 'to eat')])\n"
     ]
    }
   ],
   "source": [
    "print(dic.items())   # to print key value pairs using items method"
   ]
  },
  {
   "cell_type": "code",
   "execution_count": 25,
   "id": "2104a13d",
   "metadata": {},
   "outputs": [
    {
     "name": "stdout",
     "output_type": "stream",
     "text": [
      "1 2 3 4\n"
     ]
    }
   ],
   "source": [
    "tup = (1,2,3,4,6)  #unpacking of tuple\n",
    "a , b, c, d , e = tup\n",
    "print(a,b,c,d)"
   ]
  },
  {
   "cell_type": "code",
   "execution_count": 26,
   "id": "b1021385",
   "metadata": {},
   "outputs": [
    {
     "data": {
      "text/plain": [
       "{'Aryanshii': 'Human being', 'Spoon': 'to eat', 55: 'hi adding new element'}"
      ]
     },
     "execution_count": 26,
     "metadata": {},
     "output_type": "execute_result"
    }
   ],
   "source": [
    "#adding new elements in dictonary   || no append function is used in dictonary\n",
    "dic[55] = \"hi adding new element\"\n",
    "dic"
   ]
  },
  {
   "cell_type": "code",
   "execution_count": 29,
   "id": "4d103241",
   "metadata": {},
   "outputs": [
    {
     "data": {
      "text/plain": [
       "False"
      ]
     },
     "execution_count": 29,
     "metadata": {},
     "output_type": "execute_result"
    }
   ],
   "source": [
    "\"hi adding new element\" in dic   # to check a key is present or not"
   ]
  },
  {
   "cell_type": "code",
   "execution_count": 33,
   "id": "7d855bf7",
   "metadata": {},
   "outputs": [
    {
     "data": {
      "text/plain": [
       "True"
      ]
     },
     "execution_count": 33,
     "metadata": {},
     "output_type": "execute_result"
    }
   ],
   "source": [
    "'Spoon' in dic"
   ]
  },
  {
   "cell_type": "code",
   "execution_count": 40,
   "id": "1093a2ef",
   "metadata": {},
   "outputs": [
    {
     "data": {
      "text/plain": [
       "'hi adding new element'"
      ]
     },
     "execution_count": 40,
     "metadata": {},
     "output_type": "execute_result"
    }
   ],
   "source": [
    "dic.pop(55)    # for deleting the values u can use del() or pop() methods \n",
    "              #pop method deletes the key and returns the value in dictonary"
   ]
  },
  {
   "cell_type": "code",
   "execution_count": 41,
   "id": "70f870a7",
   "metadata": {},
   "outputs": [
    {
     "data": {
      "text/plain": [
       "{'Aryanshii': 'Human being'}"
      ]
     },
     "execution_count": 41,
     "metadata": {},
     "output_type": "execute_result"
    }
   ],
   "source": [
    "dic"
   ]
  },
  {
   "cell_type": "code",
   "execution_count": 42,
   "id": "54653e98",
   "metadata": {},
   "outputs": [],
   "source": [
    "del dic['Aryanshii']"
   ]
  },
  {
   "cell_type": "code",
   "execution_count": 43,
   "id": "164e52c1",
   "metadata": {},
   "outputs": [
    {
     "data": {
      "text/plain": [
       "{}"
      ]
     },
     "execution_count": 43,
     "metadata": {},
     "output_type": "execute_result"
    }
   ],
   "source": [
    "dic"
   ]
  },
  {
   "cell_type": "code",
   "execution_count": 48,
   "id": "aeb7fd3d",
   "metadata": {},
   "outputs": [
    {
     "data": {
      "text/plain": [
       "{'name': 'Karan', 'age': 19, 'eligible': True}"
      ]
     },
     "execution_count": 48,
     "metadata": {},
     "output_type": "execute_result"
    }
   ],
   "source": [
    "info = {'name':'Karan', 'age':19, 'eligible':True}\n",
    "info"
   ]
  },
  {
   "cell_type": "code",
   "execution_count": 49,
   "id": "e6da28bc",
   "metadata": {},
   "outputs": [
    {
     "data": {
      "text/plain": [
       "('eligible', True)"
      ]
     },
     "execution_count": 49,
     "metadata": {},
     "output_type": "execute_result"
    }
   ],
   "source": [
    "info.popitem()  # popitem() is used to remove only the last element of the dictonary \n",
    "            # in list there is no popitem() method"
   ]
  },
  {
   "cell_type": "code",
   "execution_count": 50,
   "id": "b74755b4",
   "metadata": {},
   "outputs": [
    {
     "data": {
      "text/plain": [
       "{'name': 'Karan', 'age': 19}"
      ]
     },
     "execution_count": 50,
     "metadata": {},
     "output_type": "execute_result"
    }
   ],
   "source": [
    "info"
   ]
  },
  {
   "cell_type": "code",
   "execution_count": 53,
   "id": "253134ba",
   "metadata": {},
   "outputs": [
    {
     "data": {
      "text/plain": [
       "dict_keys(['name', 'age'])"
      ]
     },
     "execution_count": 53,
     "metadata": {},
     "output_type": "execute_result"
    }
   ],
   "source": [
    "lt = info.keys()  # accessing key using list of dictionary info similarily for values\n",
    "lt"
   ]
  },
  {
   "cell_type": "code",
   "execution_count": 55,
   "id": "1266a4c6",
   "metadata": {},
   "outputs": [
    {
     "data": {
      "text/plain": [
       "{'good': 111111, 'night': 131212, 'hi': 55, 'bye': 55555}"
      ]
     },
     "execution_count": 55,
     "metadata": {},
     "output_type": "execute_result"
    }
   ],
   "source": [
    "a = {'hi':55 , 'bye':55555}   #to merge one dictonary with another dictonary using update method\n",
    "b = {'good':111111,'night':131212}\n",
    "b.update(a)\n",
    "b"
   ]
  },
  {
   "cell_type": "code",
   "execution_count": null,
   "id": "745adfbc",
   "metadata": {},
   "outputs": [],
   "source": []
  }
 ],
 "metadata": {
  "kernelspec": {
   "display_name": "Python 3 (ipykernel)",
   "language": "python",
   "name": "python3"
  },
  "language_info": {
   "codemirror_mode": {
    "name": "ipython",
    "version": 3
   },
   "file_extension": ".py",
   "mimetype": "text/x-python",
   "name": "python",
   "nbconvert_exporter": "python",
   "pygments_lexer": "ipython3",
   "version": "3.9.13"
  }
 },
 "nbformat": 4,
 "nbformat_minor": 5
}
